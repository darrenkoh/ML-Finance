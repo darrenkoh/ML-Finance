{
 "cells": [
  {
   "cell_type": "code",
   "execution_count": 1,
   "metadata": {},
   "outputs": [],
   "source": [
    "import pandas as pd\n",
    "import os"
   ]
  },
  {
   "cell_type": "code",
   "execution_count": 2,
   "metadata": {},
   "outputs": [],
   "source": [
    "def load_multiple_csv(folder_path):\n",
    "    dfs = []\n",
    "\n",
    "    for filename in os.listdir(folder_path):\n",
    "        file_path = os.path.join(folder_path, filename)\n",
    "        if os.path.isfile(file_path):\n",
    "            df = pd.read_csv(file_path, parse_dates=['Date time'])\n",
    "            dfs.append(df)\n",
    "    combined_df = pd.concat(dfs)\n",
    "    return combined_df"
   ]
  },
  {
   "cell_type": "code",
   "execution_count": 3,
   "metadata": {},
   "outputs": [],
   "source": [
    "def PgeRate(row):\n",
    "    if row['Date time'].hour >= 16 and row['Date time'].hour < 21:\n",
    "        return 0.46357\n",
    "    elif row['Date time'].hour in [15, 21, 22, 23]:\n",
    "        return 0.44687\n",
    "    else:\n",
    "        return 0.27818"
   ]
  },
  {
   "cell_type": "code",
   "execution_count": 4,
   "metadata": {},
   "outputs": [
    {
     "name": "stdout",
     "output_type": "stream",
     "text": [
      "Date time          object\n",
      "Home (kW)         float64\n",
      "Vehicle (kW)      float64\n",
      "Powerwall (kW)    float64\n",
      "Solar (kW)        float64\n",
      "Grid (kW)         float64\n",
      "dtype: object\n"
     ]
    },
    {
     "data": {
      "text/html": [
       "<div>\n",
       "<style scoped>\n",
       "    .dataframe tbody tr th:only-of-type {\n",
       "        vertical-align: middle;\n",
       "    }\n",
       "\n",
       "    .dataframe tbody tr th {\n",
       "        vertical-align: top;\n",
       "    }\n",
       "\n",
       "    .dataframe thead th {\n",
       "        text-align: right;\n",
       "    }\n",
       "</style>\n",
       "<table border=\"1\" class=\"dataframe\">\n",
       "  <thead>\n",
       "    <tr style=\"text-align: right;\">\n",
       "      <th></th>\n",
       "      <th>Date time</th>\n",
       "      <th>Home (kW)</th>\n",
       "      <th>Vehicle (kW)</th>\n",
       "      <th>Powerwall (kW)</th>\n",
       "      <th>Solar (kW)</th>\n",
       "      <th>Grid (kW)</th>\n",
       "    </tr>\n",
       "  </thead>\n",
       "  <tbody>\n",
       "    <tr>\n",
       "      <th>0</th>\n",
       "      <td>2023-11-01 00:00:00-07:00</td>\n",
       "      <td>6.3</td>\n",
       "      <td>0.0</td>\n",
       "      <td>6.3</td>\n",
       "      <td>0.0</td>\n",
       "      <td>0.0</td>\n",
       "    </tr>\n",
       "    <tr>\n",
       "      <th>1</th>\n",
       "      <td>2023-11-01 00:05:00-07:00</td>\n",
       "      <td>6.2</td>\n",
       "      <td>0.0</td>\n",
       "      <td>6.2</td>\n",
       "      <td>0.0</td>\n",
       "      <td>0.0</td>\n",
       "    </tr>\n",
       "    <tr>\n",
       "      <th>2</th>\n",
       "      <td>2023-11-01 00:10:00-07:00</td>\n",
       "      <td>4.1</td>\n",
       "      <td>0.0</td>\n",
       "      <td>4.1</td>\n",
       "      <td>0.0</td>\n",
       "      <td>0.0</td>\n",
       "    </tr>\n",
       "    <tr>\n",
       "      <th>3</th>\n",
       "      <td>2023-11-01 00:15:00-07:00</td>\n",
       "      <td>2.6</td>\n",
       "      <td>0.0</td>\n",
       "      <td>2.6</td>\n",
       "      <td>0.0</td>\n",
       "      <td>0.0</td>\n",
       "    </tr>\n",
       "    <tr>\n",
       "      <th>4</th>\n",
       "      <td>2023-11-01 00:20:00-07:00</td>\n",
       "      <td>4.2</td>\n",
       "      <td>0.0</td>\n",
       "      <td>4.2</td>\n",
       "      <td>0.0</td>\n",
       "      <td>0.0</td>\n",
       "    </tr>\n",
       "  </tbody>\n",
       "</table>\n",
       "</div>"
      ],
      "text/plain": [
       "                   Date time  Home (kW)  Vehicle (kW)  Powerwall (kW)  \\\n",
       "0  2023-11-01 00:00:00-07:00        6.3           0.0             6.3   \n",
       "1  2023-11-01 00:05:00-07:00        6.2           0.0             6.2   \n",
       "2  2023-11-01 00:10:00-07:00        4.1           0.0             4.1   \n",
       "3  2023-11-01 00:15:00-07:00        2.6           0.0             2.6   \n",
       "4  2023-11-01 00:20:00-07:00        4.2           0.0             4.2   \n",
       "\n",
       "   Solar (kW)  Grid (kW)  \n",
       "0         0.0        0.0  \n",
       "1         0.0        0.0  \n",
       "2         0.0        0.0  \n",
       "3         0.0        0.0  \n",
       "4         0.0        0.0  "
      ]
     },
     "execution_count": 4,
     "metadata": {},
     "output_type": "execute_result"
    }
   ],
   "source": [
    "dfs = load_multiple_csv('/Users/darrenkoh/Tesla Energy/Nov')\n",
    "sorted_dfs = dfs.sort_values(by='Date time')\n",
    "print(sorted_dfs.dtypes)\n",
    "sorted_dfs.head()"
   ]
  },
  {
   "cell_type": "code",
   "execution_count": 5,
   "metadata": {},
   "outputs": [
    {
     "data": {
      "text/html": [
       "<div>\n",
       "<style scoped>\n",
       "    .dataframe tbody tr th:only-of-type {\n",
       "        vertical-align: middle;\n",
       "    }\n",
       "\n",
       "    .dataframe tbody tr th {\n",
       "        vertical-align: top;\n",
       "    }\n",
       "\n",
       "    .dataframe thead th {\n",
       "        text-align: right;\n",
       "    }\n",
       "</style>\n",
       "<table border=\"1\" class=\"dataframe\">\n",
       "  <thead>\n",
       "    <tr style=\"text-align: right;\">\n",
       "      <th></th>\n",
       "      <th>Date time</th>\n",
       "      <th>Home (kW)</th>\n",
       "      <th>Vehicle (kW)</th>\n",
       "      <th>Powerwall (kW)</th>\n",
       "      <th>Solar (kW)</th>\n",
       "      <th>Grid (kW)</th>\n",
       "      <th>Peak</th>\n",
       "    </tr>\n",
       "  </thead>\n",
       "  <tbody>\n",
       "    <tr>\n",
       "      <th>0</th>\n",
       "      <td>2023-11-01 00:00:00-07:00</td>\n",
       "      <td>6.3</td>\n",
       "      <td>0.0</td>\n",
       "      <td>6.3</td>\n",
       "      <td>0.0</td>\n",
       "      <td>0.0</td>\n",
       "      <td>0.27818</td>\n",
       "    </tr>\n",
       "    <tr>\n",
       "      <th>1</th>\n",
       "      <td>2023-11-01 00:05:00-07:00</td>\n",
       "      <td>6.2</td>\n",
       "      <td>0.0</td>\n",
       "      <td>6.2</td>\n",
       "      <td>0.0</td>\n",
       "      <td>0.0</td>\n",
       "      <td>0.27818</td>\n",
       "    </tr>\n",
       "    <tr>\n",
       "      <th>2</th>\n",
       "      <td>2023-11-01 00:10:00-07:00</td>\n",
       "      <td>4.1</td>\n",
       "      <td>0.0</td>\n",
       "      <td>4.1</td>\n",
       "      <td>0.0</td>\n",
       "      <td>0.0</td>\n",
       "      <td>0.27818</td>\n",
       "    </tr>\n",
       "    <tr>\n",
       "      <th>3</th>\n",
       "      <td>2023-11-01 00:15:00-07:00</td>\n",
       "      <td>2.6</td>\n",
       "      <td>0.0</td>\n",
       "      <td>2.6</td>\n",
       "      <td>0.0</td>\n",
       "      <td>0.0</td>\n",
       "      <td>0.27818</td>\n",
       "    </tr>\n",
       "    <tr>\n",
       "      <th>4</th>\n",
       "      <td>2023-11-01 00:20:00-07:00</td>\n",
       "      <td>4.2</td>\n",
       "      <td>0.0</td>\n",
       "      <td>4.2</td>\n",
       "      <td>0.0</td>\n",
       "      <td>0.0</td>\n",
       "      <td>0.27818</td>\n",
       "    </tr>\n",
       "  </tbody>\n",
       "</table>\n",
       "</div>"
      ],
      "text/plain": [
       "                   Date time  Home (kW)  Vehicle (kW)  Powerwall (kW)  \\\n",
       "0  2023-11-01 00:00:00-07:00        6.3           0.0             6.3   \n",
       "1  2023-11-01 00:05:00-07:00        6.2           0.0             6.2   \n",
       "2  2023-11-01 00:10:00-07:00        4.1           0.0             4.1   \n",
       "3  2023-11-01 00:15:00-07:00        2.6           0.0             2.6   \n",
       "4  2023-11-01 00:20:00-07:00        4.2           0.0             4.2   \n",
       "\n",
       "   Solar (kW)  Grid (kW)     Peak  \n",
       "0         0.0        0.0  0.27818  \n",
       "1         0.0        0.0  0.27818  \n",
       "2         0.0        0.0  0.27818  \n",
       "3         0.0        0.0  0.27818  \n",
       "4         0.0        0.0  0.27818  "
      ]
     },
     "execution_count": 5,
     "metadata": {},
     "output_type": "execute_result"
    }
   ],
   "source": [
    "# Add PGE TOU Rate colums\n",
    "sorted_dfs['Peak'] = sorted_dfs.apply(PgeRate, axis=1)\n",
    "sorted_dfs.head()"
   ]
  },
  {
   "cell_type": "code",
   "execution_count": 8,
   "metadata": {},
   "outputs": [
    {
     "name": "stdout",
     "output_type": "stream",
     "text": [
      "                   Date time  Home (kW)  Vehicle (kW)  Powerwall (kW)  \\\n",
      "0  2023-11-01 00:00:00-07:00        6.3           0.0             6.3   \n",
      "1  2023-11-01 00:05:00-07:00        6.2           0.0             6.2   \n",
      "2  2023-11-01 00:10:00-07:00        4.1           0.0             4.1   \n",
      "3  2023-11-01 00:15:00-07:00        2.6           0.0             2.6   \n",
      "4  2023-11-01 00:20:00-07:00        4.2           0.0             4.2   \n",
      "\n",
      "   Solar (kW)  Grid (kW)     Peak      cost  \n",
      "0         0.0        0.0  0.27818  1.752534  \n",
      "1         0.0        0.0  0.27818  1.724716  \n",
      "2         0.0        0.0  0.27818  1.140538  \n",
      "3         0.0        0.0  0.27818  0.723268  \n",
      "4         0.0        0.0  0.27818  1.168356  \n",
      "11804.183986000016\n"
     ]
    }
   ],
   "source": [
    "sorted_dfs['cost'] = (sorted_dfs['Home (kW)'] + sorted_dfs['Vehicle (kW)']) * sorted_dfs['Peak']\n",
    "print(sorted_dfs.head())\n",
    "print(sum(sorted_dfs['cost']))"
   ]
  },
  {
   "cell_type": "code",
   "execution_count": 9,
   "metadata": {},
   "outputs": [],
   "source": [
    "sorted_dfs.to_csv('/Users/darrenkoh/Tesla Energy/Nov.csv', index=False)"
   ]
  }
 ],
 "metadata": {
  "kernelspec": {
   "display_name": ".venv",
   "language": "python",
   "name": "python3"
  },
  "language_info": {
   "codemirror_mode": {
    "name": "ipython",
    "version": 3
   },
   "file_extension": ".py",
   "mimetype": "text/x-python",
   "name": "python",
   "nbconvert_exporter": "python",
   "pygments_lexer": "ipython3",
   "version": "3.10.2"
  }
 },
 "nbformat": 4,
 "nbformat_minor": 2
}
